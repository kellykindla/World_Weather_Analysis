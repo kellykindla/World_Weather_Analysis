{
 "cells": [
  {
   "cell_type": "code",
   "execution_count": 25,
   "id": "80495130",
   "metadata": {},
   "outputs": [],
   "source": [
    "# Import the random module.\n",
    "import random\n",
    "\n",
    "# Import the NumPy module.\n",
    "import numpy as np\n",
    "\n",
    "# Import timeit to measure how long code takes to run\n",
    "import timeit"
   ]
  },
  {
   "cell_type": "code",
   "execution_count": 26,
   "id": "b01051b3",
   "metadata": {},
   "outputs": [
    {
     "data": {
      "text/plain": [
       "72"
      ]
     },
     "execution_count": 26,
     "metadata": {},
     "output_type": "execute_result"
    }
   ],
   "source": [
    "#randint is short for \"random integer.\"\n",
    "random.randint(-90, 90)"
   ]
  },
  {
   "cell_type": "code",
   "execution_count": 27,
   "id": "e95ff603",
   "metadata": {},
   "outputs": [
    {
     "data": {
      "text/plain": [
       "0.7167654507828686"
      ]
     },
     "execution_count": 27,
     "metadata": {},
     "output_type": "execute_result"
    }
   ],
   "source": [
    "#random() function gives a single floating-point decimal number between 0 and 1.0\n",
    "random.random()"
   ]
  },
  {
   "cell_type": "code",
   "execution_count": 28,
   "id": "bbf723ab",
   "metadata": {},
   "outputs": [
    {
     "data": {
      "text/plain": [
       "-21.927250065245804"
      ]
     },
     "execution_count": 28,
     "metadata": {},
     "output_type": "execute_result"
    }
   ],
   "source": [
    "#algorithm that will generate latitudes between –90 and 89\n",
    "random_number = random.randint(-90,89) + random.random()\n",
    "random_number"
   ]
  },
  {
   "cell_type": "code",
   "execution_count": 29,
   "id": "410ad2c3",
   "metadata": {},
   "outputs": [
    {
     "data": {
      "text/plain": [
       "[-84.2658204385486,\n",
       " -85.35369774340522,\n",
       " -14.405206900373244,\n",
       " -60.58597767899631,\n",
       " 68.10897862256996,\n",
       " 49.94083269214666,\n",
       " -74.77676358308982,\n",
       " 85.54754165436174,\n",
       " -51.600769479211976,\n",
       " -2.599333489843383]"
      ]
     },
     "execution_count": 29,
     "metadata": {},
     "output_type": "execute_result"
    }
   ],
   "source": [
    "#generate ten random floating-point decimal latitudes between –90 and 89\n",
    "#Assign the variable x to 1\n",
    "x = 1\n",
    "#Initialize an empty list, latitudes\n",
    "latitudes = []\n",
    "#We create a while loop where we generate a random latitude and add it to the list.\n",
    "#while loop condition is checked again and will continue to run as long as x is less than 11\n",
    "while x < 11:\n",
    "    random_lat = random.randint(-90, 89) + random.random()\n",
    "    latitudes.append(random_lat)\n",
    "    #After the random latitude is added to the list we add one to the variable \"x\n",
    "    x += 1\n",
    "latitudes"
   ]
  },
  {
   "cell_type": "code",
   "execution_count": 30,
   "id": "16a19d06",
   "metadata": {},
   "outputs": [
    {
     "data": {
      "text/plain": [
       "30"
      ]
     },
     "execution_count": 30,
     "metadata": {},
     "output_type": "execute_result"
    }
   ],
   "source": [
    "#randrange returns an integer within the range where the step is the difference between each number in the sequence\n",
    "random.randrange(-90, 90, step=3)"
   ]
  },
  {
   "cell_type": "code",
   "execution_count": 31,
   "id": "873f34a0",
   "metadata": {},
   "outputs": [
    {
     "data": {
      "text/plain": [
       "78.0026977079358"
      ]
     },
     "execution_count": 31,
     "metadata": {},
     "output_type": "execute_result"
    }
   ],
   "source": [
    "#combining the random.randrange() and random.random() functions to generate a floating-point decimal between –90 and 90,\n",
    "random_number2= random.randrange(-90,89, step = 3) + random.random()\n",
    "random_number2"
   ]
  },
  {
   "cell_type": "code",
   "execution_count": 32,
   "id": "2d02fefc",
   "metadata": {},
   "outputs": [
    {
     "data": {
      "text/plain": [
       "76.20598923478343"
      ]
     },
     "execution_count": 32,
     "metadata": {},
     "output_type": "execute_result"
    }
   ],
   "source": [
    "#uniform() function will allow us to generate a floating-point decimal number between two given numbers inside the parentheses\n",
    "random.uniform(-90, 90)"
   ]
  },
  {
   "cell_type": "code",
   "execution_count": 33,
   "id": "e0c40fd6",
   "metadata": {},
   "outputs": [
    {
     "data": {
      "text/plain": [
       "8.141737334929076"
      ]
     },
     "execution_count": 33,
     "metadata": {},
     "output_type": "execute_result"
    }
   ],
   "source": [
    "#chain the numpy module to the random module to generate a floating-point decimal number between –90.000 and 90.000\n",
    "np.random.uniform(-90.000, 90.000)\n",
    "\n",
    "#another option to write the parameters:\n",
    "#np.random.uniform(low=-90, high=90)"
   ]
  },
  {
   "cell_type": "code",
   "execution_count": 36,
   "id": "387b623b",
   "metadata": {},
   "outputs": [
    {
     "data": {
      "text/plain": [
       "array([ 57.39582706, -14.04074013,  -4.90864474,  11.53484771,\n",
       "        70.5139252 ,   9.54965715, -45.59601579, -44.29726153,\n",
       "       -36.82328195,  36.55910033,  30.00186267, -18.92026793,\n",
       "       -64.78345028, -17.08371617, -16.16954092, -54.54572686,\n",
       "       -30.44070649, -11.83942463, -78.08468372,  45.29782434,\n",
       "       -38.07963188, -14.1870392 , -10.37339677, -21.93474293,\n",
       "       -17.75992001, -77.95421996,   5.11070022,  72.23647712,\n",
       "       -78.36544902,  86.76669174, -31.54052832,  39.06928815,\n",
       "        30.44742183,  74.89086756,  73.44134839, -21.2091874 ,\n",
       "        -1.22501334,  37.96529156,  -7.46042788,  89.40960505,\n",
       "        21.80993996,  15.04627838,  68.32953729,  52.18497816,\n",
       "        35.55304863,  74.12718706, -54.02764583,  52.77829647,\n",
       "       -52.77455791,  -9.72507227])"
      ]
     },
     "execution_count": 36,
     "metadata": {},
     "output_type": "execute_result"
    }
   ],
   "source": [
    "#use the size parameter to get an array of 50 floating-point decimal numbers between –90.000 and 90.000\n",
    "np.random.uniform(-90.000, 90.000, size=50)"
   ]
  },
  {
   "cell_type": "code",
   "execution_count": 37,
   "id": "024c609b",
   "metadata": {},
   "outputs": [
    {
     "name": "stdout",
     "output_type": "stream",
     "text": [
      "15.2 µs ± 9.3 ns per loop (mean ± std. dev. of 7 runs, 100000 loops each)\n"
     ]
    }
   ],
   "source": [
    "#add the %timeit magic command before a line of code to measure how long it takes to run \n",
    "%timeit np.random.uniform(-90.000, 90.000, size=1500)\n",
    "#this method is 100 times faster than using the while loop function"
   ]
  },
  {
   "cell_type": "code",
   "execution_count": 38,
   "id": "a8ad532d",
   "metadata": {},
   "outputs": [
    {
     "name": "stdout",
     "output_type": "stream",
     "text": [
      "1.58 ms ± 915 ns per loop (mean ± std. dev. of 7 runs, 1000 loops each)\n"
     ]
    }
   ],
   "source": [
    "#using a while loop to get a list of 1500 latitudes and mesuring how long it takes \n",
    "def latitudes(size):\n",
    "    latitudes = []\n",
    "    x = 0\n",
    "    while x < (size):\n",
    "        random_lat = random.randint(-90, 90) + random.random()\n",
    "        latitudes.append(random_lat)\n",
    "        x += 1\n",
    "    return latitudes\n",
    "# Call the function with 1500.\n",
    "%timeit latitudes(1500)"
   ]
  },
  {
   "cell_type": "code",
   "execution_count": null,
   "id": "d443f52b",
   "metadata": {},
   "outputs": [],
   "source": [
    "#skill drill 6.1.4 \n",
    "#Refactor the code for the while loop with the %timeit magic command \n",
    "##and write a for loop that will generate the 1,500 latitudes\n",
    "\n"
   ]
  }
 ],
 "metadata": {
  "kernelspec": {
   "display_name": "PythonData",
   "language": "python",
   "name": "pythondata"
  },
  "language_info": {
   "codemirror_mode": {
    "name": "ipython",
    "version": 3
   },
   "file_extension": ".py",
   "mimetype": "text/x-python",
   "name": "python",
   "nbconvert_exporter": "python",
   "pygments_lexer": "ipython3",
   "version": "3.7.10"
  }
 },
 "nbformat": 4,
 "nbformat_minor": 5
}
